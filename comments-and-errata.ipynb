{
 "cells": [
  {
   "cell_type": "markdown",
   "id": "a963b304",
   "metadata": {},
   "source": [
    "# Chapter 2\n",
    "\n",
    "## Use of \"frequentist\"\n",
    "\n",
    "In this chapter, \"frequentist\" is often equated with hypothesis testing based on P-values.\n",
    "However, that's a bit misleading.\n",
    "Fundamentally, there are 2 branches statistics (frequentist and Bayesian), because we have two things we can condition on, the model or the data.\n",
    "For a nice explanation of this grounded in decision theory, check out the first 20 minutes of this lecture by Michael Jordan (no, not \"air\" Jordan, more like \"err\" Jordan):\n",
    "\n",
    "http://videolectures.net/mlss09uk_jordan_bfway/\n",
    "\n",
    "If your browser has trouble with this site, here's a YouTube version with no slides:\n",
    "\n",
    "https://www.youtube.com/watch?v=HUAE26lNDuE\n",
    "\n",
    "You can approach hypothesis testing from a frequentist or Bayesian approach.\n",
    "We tend to teach the frequentist approach (P-values and confidence intervals) to hypothesis testing, but they are not equivalent.\n",
    "\n",
    "## Equation 2.7\n",
    "\n",
    "\\begin{equation}\n",
    "    \\Delta = -2 \\ln \\frac{\\textrm{ML}_1}{\\textrm{ML}_2} = -2 (\\ln \\textrm{ML}_1 - \\ln \\textrm{ML}_2)\n",
    "\\end{equation}\n",
    "\n",
    "\n",
    "## Equation 2.21\n",
    "\n",
    "\"H\" should be \"D\" in the last equation. Also $p_h$ should be $p_H$:\n",
    "\n",
    "\\begin{equation}\n",
    "    Pr(H|D) = \\frac{P(D | p_H, N) f(p_H)}{\\int_{0}^{1} P(D | p_H, N) f(p_H) dp_H}\n",
    "\\end{equation}"
   ]
  }
 ],
 "metadata": {
  "kernelspec": {
   "display_name": "Python 3",
   "language": "python",
   "name": "python3"
  },
  "language_info": {
   "codemirror_mode": {
    "name": "ipython",
    "version": 3
   },
   "file_extension": ".py",
   "mimetype": "text/x-python",
   "name": "python",
   "nbconvert_exporter": "python",
   "pygments_lexer": "ipython3",
   "version": "3.8.6"
  }
 },
 "nbformat": 4,
 "nbformat_minor": 5
}
